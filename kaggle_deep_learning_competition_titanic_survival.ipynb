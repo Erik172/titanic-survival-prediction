{
 "cells": [
  {
   "attachments": {},
   "cell_type": "markdown",
   "metadata": {},
   "source": [
    "# Titanic Survival Prediction using Deep Learning with Keras\n",
    "_score_ = 0.78229"
   ]
  },
  {
   "cell_type": "code",
   "execution_count": 1,
   "metadata": {},
   "outputs": [],
   "source": [
    "import numpy as np\n",
    "import pandas as pd\n",
    "import matplotlib.pyplot as plt\n",
    "import seaborn as sns\n",
    "import tensorflow as tf\n",
    "import keras\n",
    "from keras import models, layers\n",
    "from sklearn.preprocessing import StandardScaler, LabelEncoder, KBinsDiscretizer\n"
   ]
  },
  {
   "cell_type": "code",
   "execution_count": 2,
   "metadata": {},
   "outputs": [],
   "source": [
    "%matplotlib inline\n",
    "\n",
    "sns.set_style('darkgrid')\n",
    "sns.set_palette('Set2')\n",
    "\n",
    "plt.rcParams['figure.figsize'] = (10, 6)"
   ]
  },
  {
   "cell_type": "code",
   "execution_count": 3,
   "metadata": {},
   "outputs": [
    {
     "data": {
      "text/plain": [
       "((891, 12), (418, 11))"
      ]
     },
     "execution_count": 3,
     "metadata": {},
     "output_type": "execute_result"
    }
   ],
   "source": [
    "train_data = pd.read_csv('data/train.csv')\n",
    "test_data = pd.read_csv('data/test.csv')\n",
    "\n",
    "train_data.shape, test_data.shape"
   ]
  },
  {
   "cell_type": "code",
   "execution_count": 4,
   "metadata": {},
   "outputs": [
    {
     "data": {
      "text/html": [
       "<div>\n",
       "<style scoped>\n",
       "    .dataframe tbody tr th:only-of-type {\n",
       "        vertical-align: middle;\n",
       "    }\n",
       "\n",
       "    .dataframe tbody tr th {\n",
       "        vertical-align: top;\n",
       "    }\n",
       "\n",
       "    .dataframe thead th {\n",
       "        text-align: right;\n",
       "    }\n",
       "</style>\n",
       "<table border=\"1\" class=\"dataframe\">\n",
       "  <thead>\n",
       "    <tr style=\"text-align: right;\">\n",
       "      <th></th>\n",
       "      <th>PassengerId</th>\n",
       "      <th>Survived</th>\n",
       "      <th>Pclass</th>\n",
       "      <th>Name</th>\n",
       "      <th>Sex</th>\n",
       "      <th>Age</th>\n",
       "      <th>SibSp</th>\n",
       "      <th>Parch</th>\n",
       "      <th>Ticket</th>\n",
       "      <th>Fare</th>\n",
       "      <th>Cabin</th>\n",
       "      <th>Embarked</th>\n",
       "    </tr>\n",
       "  </thead>\n",
       "  <tbody>\n",
       "    <tr>\n",
       "      <th>0</th>\n",
       "      <td>1</td>\n",
       "      <td>0</td>\n",
       "      <td>3</td>\n",
       "      <td>Braund, Mr. Owen Harris</td>\n",
       "      <td>male</td>\n",
       "      <td>22.0</td>\n",
       "      <td>1</td>\n",
       "      <td>0</td>\n",
       "      <td>A/5 21171</td>\n",
       "      <td>7.2500</td>\n",
       "      <td>NaN</td>\n",
       "      <td>S</td>\n",
       "    </tr>\n",
       "    <tr>\n",
       "      <th>1</th>\n",
       "      <td>2</td>\n",
       "      <td>1</td>\n",
       "      <td>1</td>\n",
       "      <td>Cumings, Mrs. John Bradley (Florence Briggs Th...</td>\n",
       "      <td>female</td>\n",
       "      <td>38.0</td>\n",
       "      <td>1</td>\n",
       "      <td>0</td>\n",
       "      <td>PC 17599</td>\n",
       "      <td>71.2833</td>\n",
       "      <td>C85</td>\n",
       "      <td>C</td>\n",
       "    </tr>\n",
       "    <tr>\n",
       "      <th>2</th>\n",
       "      <td>3</td>\n",
       "      <td>1</td>\n",
       "      <td>3</td>\n",
       "      <td>Heikkinen, Miss. Laina</td>\n",
       "      <td>female</td>\n",
       "      <td>26.0</td>\n",
       "      <td>0</td>\n",
       "      <td>0</td>\n",
       "      <td>STON/O2. 3101282</td>\n",
       "      <td>7.9250</td>\n",
       "      <td>NaN</td>\n",
       "      <td>S</td>\n",
       "    </tr>\n",
       "    <tr>\n",
       "      <th>3</th>\n",
       "      <td>4</td>\n",
       "      <td>1</td>\n",
       "      <td>1</td>\n",
       "      <td>Futrelle, Mrs. Jacques Heath (Lily May Peel)</td>\n",
       "      <td>female</td>\n",
       "      <td>35.0</td>\n",
       "      <td>1</td>\n",
       "      <td>0</td>\n",
       "      <td>113803</td>\n",
       "      <td>53.1000</td>\n",
       "      <td>C123</td>\n",
       "      <td>S</td>\n",
       "    </tr>\n",
       "    <tr>\n",
       "      <th>4</th>\n",
       "      <td>5</td>\n",
       "      <td>0</td>\n",
       "      <td>3</td>\n",
       "      <td>Allen, Mr. William Henry</td>\n",
       "      <td>male</td>\n",
       "      <td>35.0</td>\n",
       "      <td>0</td>\n",
       "      <td>0</td>\n",
       "      <td>373450</td>\n",
       "      <td>8.0500</td>\n",
       "      <td>NaN</td>\n",
       "      <td>S</td>\n",
       "    </tr>\n",
       "  </tbody>\n",
       "</table>\n",
       "</div>"
      ],
      "text/plain": [
       "   PassengerId  Survived  Pclass  \\\n",
       "0            1         0       3   \n",
       "1            2         1       1   \n",
       "2            3         1       3   \n",
       "3            4         1       1   \n",
       "4            5         0       3   \n",
       "\n",
       "                                                Name     Sex   Age  SibSp  \\\n",
       "0                            Braund, Mr. Owen Harris    male  22.0      1   \n",
       "1  Cumings, Mrs. John Bradley (Florence Briggs Th...  female  38.0      1   \n",
       "2                             Heikkinen, Miss. Laina  female  26.0      0   \n",
       "3       Futrelle, Mrs. Jacques Heath (Lily May Peel)  female  35.0      1   \n",
       "4                           Allen, Mr. William Henry    male  35.0      0   \n",
       "\n",
       "   Parch            Ticket     Fare Cabin Embarked  \n",
       "0      0         A/5 21171   7.2500   NaN        S  \n",
       "1      0          PC 17599  71.2833   C85        C  \n",
       "2      0  STON/O2. 3101282   7.9250   NaN        S  \n",
       "3      0            113803  53.1000  C123        S  \n",
       "4      0            373450   8.0500   NaN        S  "
      ]
     },
     "execution_count": 4,
     "metadata": {},
     "output_type": "execute_result"
    }
   ],
   "source": [
    "train_data.head()"
   ]
  },
  {
   "cell_type": "code",
   "execution_count": 5,
   "metadata": {},
   "outputs": [
    {
     "name": "stdout",
     "output_type": "stream",
     "text": [
      "<class 'pandas.core.frame.DataFrame'>\n",
      "RangeIndex: 891 entries, 0 to 890\n",
      "Data columns (total 12 columns):\n",
      " #   Column       Non-Null Count  Dtype  \n",
      "---  ------       --------------  -----  \n",
      " 0   PassengerId  891 non-null    int64  \n",
      " 1   Survived     891 non-null    int64  \n",
      " 2   Pclass       891 non-null    int64  \n",
      " 3   Name         891 non-null    object \n",
      " 4   Sex          891 non-null    object \n",
      " 5   Age          714 non-null    float64\n",
      " 6   SibSp        891 non-null    int64  \n",
      " 7   Parch        891 non-null    int64  \n",
      " 8   Ticket       891 non-null    object \n",
      " 9   Fare         891 non-null    float64\n",
      " 10  Cabin        204 non-null    object \n",
      " 11  Embarked     889 non-null    object \n",
      "dtypes: float64(2), int64(5), object(5)\n",
      "memory usage: 83.7+ KB\n"
     ]
    }
   ],
   "source": [
    "train_data.info()"
   ]
  },
  {
   "attachments": {},
   "cell_type": "markdown",
   "metadata": {},
   "source": [
    "## Clean the data"
   ]
  },
  {
   "cell_type": "code",
   "execution_count": 6,
   "metadata": {},
   "outputs": [],
   "source": [
    "del train_data['PassengerId']\n",
    "del train_data['Name']\n",
    "del train_data['Ticket']\n",
    "del train_data['Cabin']"
   ]
  },
  {
   "cell_type": "code",
   "execution_count": 7,
   "metadata": {},
   "outputs": [
    {
     "data": {
      "text/plain": [
       "Survived      0\n",
       "Pclass        0\n",
       "Sex           0\n",
       "Age         177\n",
       "SibSp         0\n",
       "Parch         0\n",
       "Fare          0\n",
       "Embarked      2\n",
       "dtype: int64"
      ]
     },
     "execution_count": 7,
     "metadata": {},
     "output_type": "execute_result"
    }
   ],
   "source": [
    "train_data.isna().sum()"
   ]
  },
  {
   "cell_type": "code",
   "execution_count": 8,
   "metadata": {},
   "outputs": [
    {
     "data": {
      "text/plain": [
       "<AxesSubplot: >"
      ]
     },
     "execution_count": 8,
     "metadata": {},
     "output_type": "execute_result"
    },
    {
     "data": {
      "image/png": "[encoded data removed]",
      "text/plain": [
       "<Figure size 1000x600 with 1 Axes>"
      ]
     },
     "metadata": {},
     "output_type": "display_data"
    }
   ],
   "source": [
    "(\n",
    "    sns.heatmap(\n",
    "        train_data.isna(),\n",
    "        yticklabels=False,\n",
    "        cbar=False,\n",
    "        cmap='viridis',\n",
    "        \n",
    "    )\n",
    ")"
   ]
  },
  {
   "cell_type": "code",
   "execution_count": 9,
   "metadata": {},
   "outputs": [
    {
     "data": {
      "text/plain": [
       "(29.69911764705882, 28.0)"
      ]
     },
     "execution_count": 9,
     "metadata": {},
     "output_type": "execute_result"
    }
   ],
   "source": [
    "train_data.Age.mean(), train_data.Age.median()"
   ]
  },
  {
   "cell_type": "code",
   "execution_count": 10,
   "metadata": {},
   "outputs": [],
   "source": [
    "train_data.Age.fillna(train_data.Age.median(), inplace=True)"
   ]
  },
  {
   "cell_type": "code",
   "execution_count": 11,
   "metadata": {},
   "outputs": [
    {
     "data": {
      "text/plain": [
       "Survived    0\n",
       "Pclass      0\n",
       "Sex         0\n",
       "Age         0\n",
       "SibSp       0\n",
       "Parch       0\n",
       "Fare        0\n",
       "Embarked    2\n",
       "dtype: int64"
      ]
     },
     "execution_count": 11,
     "metadata": {},
     "output_type": "execute_result"
    }
   ],
   "source": [
    "train_data.isna().sum()"
   ]
  },
  {
   "cell_type": "code",
   "execution_count": 12,
   "metadata": {},
   "outputs": [
    {
     "data": {
      "text/plain": [
       "S    644\n",
       "C    168\n",
       "Q     77\n",
       "Name: Embarked, dtype: int64"
      ]
     },
     "execution_count": 12,
     "metadata": {},
     "output_type": "execute_result"
    }
   ],
   "source": [
    "train_data.Embarked.value_counts()"
   ]
  },
  {
   "cell_type": "code",
   "execution_count": 13,
   "metadata": {},
   "outputs": [],
   "source": [
    "train_data.Embarked.fillna('S', inplace=True)"
   ]
  },
  {
   "cell_type": "code",
   "execution_count": 14,
   "metadata": {},
   "outputs": [
    {
     "data": {
      "text/plain": [
       "PassengerId      0\n",
       "Pclass           0\n",
       "Name             0\n",
       "Sex              0\n",
       "Age             86\n",
       "SibSp            0\n",
       "Parch            0\n",
       "Ticket           0\n",
       "Fare             1\n",
       "Cabin          327\n",
       "Embarked         0\n",
       "dtype: int64"
      ]
     },
     "execution_count": 14,
     "metadata": {},
     "output_type": "execute_result"
    }
   ],
   "source": [
    "test_data.isna().sum()"
   ]
  },
  {
   "cell_type": "code",
   "execution_count": 15,
   "metadata": {},
   "outputs": [],
   "source": [
    "del test_data['Cabin']\n",
    "del test_data['Name']\n",
    "del test_data['Ticket']"
   ]
  },
  {
   "cell_type": "code",
   "execution_count": 16,
   "metadata": {},
   "outputs": [],
   "source": [
    "test_data.Age.fillna(test_data.Age.median(), inplace=True)"
   ]
  },
  {
   "cell_type": "code",
   "execution_count": 17,
   "metadata": {},
   "outputs": [],
   "source": [
    "test_data.Fare.fillna(test_data.Fare.median(), inplace=True)"
   ]
  },
  {
   "cell_type": "code",
   "execution_count": 18,
   "metadata": {},
   "outputs": [
    {
     "data": {
      "text/html": [
       "<div>\n",
       "<style scoped>\n",
       "    .dataframe tbody tr th:only-of-type {\n",
       "        vertical-align: middle;\n",
       "    }\n",
       "\n",
       "    .dataframe tbody tr th {\n",
       "        vertical-align: top;\n",
       "    }\n",
       "\n",
       "    .dataframe thead th {\n",
       "        text-align: right;\n",
       "    }\n",
       "</style>\n",
       "<table border=\"1\" class=\"dataframe\">\n",
       "  <thead>\n",
       "    <tr style=\"text-align: right;\">\n",
       "      <th></th>\n",
       "      <th>Survived</th>\n",
       "      <th>Pclass</th>\n",
       "      <th>Sex</th>\n",
       "      <th>Age</th>\n",
       "      <th>SibSp</th>\n",
       "      <th>Parch</th>\n",
       "      <th>Fare</th>\n",
       "      <th>Embarked</th>\n",
       "    </tr>\n",
       "  </thead>\n",
       "  <tbody>\n",
       "    <tr>\n",
       "      <th>0</th>\n",
       "      <td>0</td>\n",
       "      <td>3</td>\n",
       "      <td>male</td>\n",
       "      <td>22.0</td>\n",
       "      <td>1</td>\n",
       "      <td>0</td>\n",
       "      <td>7.2500</td>\n",
       "      <td>S</td>\n",
       "    </tr>\n",
       "    <tr>\n",
       "      <th>1</th>\n",
       "      <td>1</td>\n",
       "      <td>1</td>\n",
       "      <td>female</td>\n",
       "      <td>38.0</td>\n",
       "      <td>1</td>\n",
       "      <td>0</td>\n",
       "      <td>71.2833</td>\n",
       "      <td>C</td>\n",
       "    </tr>\n",
       "    <tr>\n",
       "      <th>2</th>\n",
       "      <td>1</td>\n",
       "      <td>3</td>\n",
       "      <td>female</td>\n",
       "      <td>26.0</td>\n",
       "      <td>0</td>\n",
       "      <td>0</td>\n",
       "      <td>7.9250</td>\n",
       "      <td>S</td>\n",
       "    </tr>\n",
       "    <tr>\n",
       "      <th>3</th>\n",
       "      <td>1</td>\n",
       "      <td>1</td>\n",
       "      <td>female</td>\n",
       "      <td>35.0</td>\n",
       "      <td>1</td>\n",
       "      <td>0</td>\n",
       "      <td>53.1000</td>\n",
       "      <td>S</td>\n",
       "    </tr>\n",
       "    <tr>\n",
       "      <th>4</th>\n",
       "      <td>0</td>\n",
       "      <td>3</td>\n",
       "      <td>male</td>\n",
       "      <td>35.0</td>\n",
       "      <td>0</td>\n",
       "      <td>0</td>\n",
       "      <td>8.0500</td>\n",
       "      <td>S</td>\n",
       "    </tr>\n",
       "  </tbody>\n",
       "</table>\n",
       "</div>"
      ],
      "text/plain": [
       "   Survived  Pclass     Sex   Age  SibSp  Parch     Fare Embarked\n",
       "0         0       3    male  22.0      1      0   7.2500        S\n",
       "1         1       1  female  38.0      1      0  71.2833        C\n",
       "2         1       3  female  26.0      0      0   7.9250        S\n",
       "3         1       1  female  35.0      1      0  53.1000        S\n",
       "4         0       3    male  35.0      0      0   8.0500        S"
      ]
     },
     "execution_count": 18,
     "metadata": {},
     "output_type": "execute_result"
    }
   ],
   "source": [
    "train_data.head()"
   ]
  },
  {
   "attachments": {},
   "cell_type": "markdown",
   "metadata": {},
   "source": [
    "## Normalize the data"
   ]
  },
  {
   "cell_type": "code",
   "execution_count": 19,
   "metadata": {},
   "outputs": [],
   "source": [
    "le = LabelEncoder()\n",
    "\n",
    "train_data['Sex'] = le.fit_transform(train_data.Sex)\n",
    "test_data['Sex'] = le.transform(test_data.Sex)\n"
   ]
  },
  {
   "cell_type": "code",
   "execution_count": 20,
   "metadata": {},
   "outputs": [
    {
     "data": {
      "text/plain": [
       "array(['C', 'Q', 'S'], dtype=object)"
      ]
     },
     "execution_count": 20,
     "metadata": {},
     "output_type": "execute_result"
    }
   ],
   "source": [
    "train_data['Embarked'] = le.fit_transform(train_data.Embarked)\n",
    "test_data['Embarked'] = le.transform(test_data.Embarked)\n",
    "\n",
    "le.inverse_transform([0, 1, 2])"
   ]
  },
  {
   "cell_type": "code",
   "execution_count": 21,
   "metadata": {},
   "outputs": [
    {
     "name": "stderr",
     "output_type": "stream",
     "text": [
      "c:\\Users\\erik1\\AppData\\Local\\Programs\\Python\\Python311\\Lib\\site-packages\\sklearn\\preprocessing\\_discretization.py:279: UserWarning: Bins whose width are too small (i.e., <= 1e-8) in feature 0 are removed. Consider decreasing the number of bins.\n",
      "  warnings.warn(\n"
     ]
    },
    {
     "data": {
      "text/plain": [
       "array([array([ 0.42, 20.  , 28.  , 38.  , 80.  ])], dtype=object)"
      ]
     },
     "execution_count": 21,
     "metadata": {},
     "output_type": "execute_result"
    }
   ],
   "source": [
    "discretizer = KBinsDiscretizer(n_bins=5, encode='ordinal', strategy='quantile')\n",
    "\n",
    "age_bins = discretizer.fit(train_data[['Age']])\n",
    "\n",
    "train_data['Age'] = age_bins.transform(train_data[['Age']])\n",
    "test_data['Age'] = age_bins.transform(test_data[['Age']])\n",
    "\n",
    "age_bins.bin_edges_"
   ]
  },
  {
   "cell_type": "code",
   "execution_count": 22,
   "metadata": {},
   "outputs": [
    {
     "data": {
      "text/plain": [
       "array([array([  0.    ,   7.8542,  10.5   ,  21.6792,  39.6875, 512.3292])],\n",
       "      dtype=object)"
      ]
     },
     "execution_count": 22,
     "metadata": {},
     "output_type": "execute_result"
    }
   ],
   "source": [
    "fare_bins = discretizer.fit(train_data[['Fare']])\n",
    "\n",
    "train_data['Fare'] = fare_bins.transform(train_data[['Fare']])\n",
    "test_data['Fare'] = fare_bins.transform(test_data[['Fare']])\n",
    "\n",
    "fare_bins.bin_edges_"
   ]
  },
  {
   "cell_type": "code",
   "execution_count": 23,
   "metadata": {},
   "outputs": [
    {
     "data": {
      "text/html": [
       "<div>\n",
       "<style scoped>\n",
       "    .dataframe tbody tr th:only-of-type {\n",
       "        vertical-align: middle;\n",
       "    }\n",
       "\n",
       "    .dataframe tbody tr th {\n",
       "        vertical-align: top;\n",
       "    }\n",
       "\n",
       "    .dataframe thead th {\n",
       "        text-align: right;\n",
       "    }\n",
       "</style>\n",
       "<table border=\"1\" class=\"dataframe\">\n",
       "  <thead>\n",
       "    <tr style=\"text-align: right;\">\n",
       "      <th></th>\n",
       "      <th>Survived</th>\n",
       "      <th>Pclass</th>\n",
       "      <th>Sex</th>\n",
       "      <th>Age</th>\n",
       "      <th>SibSp</th>\n",
       "      <th>Parch</th>\n",
       "      <th>Fare</th>\n",
       "      <th>Embarked</th>\n",
       "    </tr>\n",
       "  </thead>\n",
       "  <tbody>\n",
       "    <tr>\n",
       "      <th>0</th>\n",
       "      <td>0</td>\n",
       "      <td>3</td>\n",
       "      <td>1</td>\n",
       "      <td>1.0</td>\n",
       "      <td>1</td>\n",
       "      <td>0</td>\n",
       "      <td>0.0</td>\n",
       "      <td>2</td>\n",
       "    </tr>\n",
       "    <tr>\n",
       "      <th>1</th>\n",
       "      <td>1</td>\n",
       "      <td>1</td>\n",
       "      <td>0</td>\n",
       "      <td>3.0</td>\n",
       "      <td>1</td>\n",
       "      <td>0</td>\n",
       "      <td>4.0</td>\n",
       "      <td>0</td>\n",
       "    </tr>\n",
       "    <tr>\n",
       "      <th>2</th>\n",
       "      <td>1</td>\n",
       "      <td>3</td>\n",
       "      <td>0</td>\n",
       "      <td>1.0</td>\n",
       "      <td>0</td>\n",
       "      <td>0</td>\n",
       "      <td>1.0</td>\n",
       "      <td>2</td>\n",
       "    </tr>\n",
       "    <tr>\n",
       "      <th>3</th>\n",
       "      <td>1</td>\n",
       "      <td>1</td>\n",
       "      <td>0</td>\n",
       "      <td>2.0</td>\n",
       "      <td>1</td>\n",
       "      <td>0</td>\n",
       "      <td>4.0</td>\n",
       "      <td>2</td>\n",
       "    </tr>\n",
       "    <tr>\n",
       "      <th>4</th>\n",
       "      <td>0</td>\n",
       "      <td>3</td>\n",
       "      <td>1</td>\n",
       "      <td>2.0</td>\n",
       "      <td>0</td>\n",
       "      <td>0</td>\n",
       "      <td>1.0</td>\n",
       "      <td>2</td>\n",
       "    </tr>\n",
       "  </tbody>\n",
       "</table>\n",
       "</div>"
      ],
      "text/plain": [
       "   Survived  Pclass  Sex  Age  SibSp  Parch  Fare  Embarked\n",
       "0         0       3    1  1.0      1      0   0.0         2\n",
       "1         1       1    0  3.0      1      0   4.0         0\n",
       "2         1       3    0  1.0      0      0   1.0         2\n",
       "3         1       1    0  2.0      1      0   4.0         2\n",
       "4         0       3    1  2.0      0      0   1.0         2"
      ]
     },
     "execution_count": 23,
     "metadata": {},
     "output_type": "execute_result"
    }
   ],
   "source": [
    "train_data.head()"
   ]
  },
  {
   "cell_type": "code",
   "execution_count": 36,
   "metadata": {},
   "outputs": [
    {
     "data": {
      "text/plain": [
       "((891, 7), (891,), (418, 7))"
      ]
     },
     "execution_count": 36,
     "metadata": {},
     "output_type": "execute_result"
    }
   ],
   "source": [
    "X_train = train_data.drop('Survived', axis=1)\n",
    "y_train = train_data.Survived\n",
    "\n",
    "X_test = test_data.drop('PassengerId', axis=1)\n",
    "\n",
    "X_train.shape, y_train.shape, X_test.shape"
   ]
  },
  {
   "cell_type": "code",
   "execution_count": 73,
   "metadata": {},
   "outputs": [
    {
     "name": "stderr",
     "output_type": "stream",
     "text": [
      "c:\\Users\\erik1\\AppData\\Local\\Programs\\Python\\Python311\\Lib\\site-packages\\numpy\\core\\fromnumeric.py:3430: FutureWarning: In a future version, DataFrame.mean(axis=None) will return a scalar mean over the entire DataFrame. To retain the old behavior, use 'frame.mean(axis=0)' or just 'frame.mean()'\n",
      "  return mean(axis=axis, dtype=dtype, out=out, **kwargs)\n"
     ]
    }
   ],
   "source": [
    "x_mean = np.mean(X_train)\n",
    "x_std = np.std(X_train)\n",
    "\n",
    "X_train = (X_train - x_mean) / x_std\n",
    "X_test = (X_test - x_mean) / x_std"
   ]
  },
  {
   "cell_type": "code",
   "execution_count": 74,
   "metadata": {},
   "outputs": [
    {
     "data": {
      "text/html": [
       "<div>\n",
       "<style scoped>\n",
       "    .dataframe tbody tr th:only-of-type {\n",
       "        vertical-align: middle;\n",
       "    }\n",
       "\n",
       "    .dataframe tbody tr th {\n",
       "        vertical-align: top;\n",
       "    }\n",
       "\n",
       "    .dataframe thead th {\n",
       "        text-align: right;\n",
       "    }\n",
       "</style>\n",
       "<table border=\"1\" class=\"dataframe\">\n",
       "  <thead>\n",
       "    <tr style=\"text-align: right;\">\n",
       "      <th></th>\n",
       "      <th>Pclass</th>\n",
       "      <th>Sex</th>\n",
       "      <th>Age</th>\n",
       "      <th>SibSp</th>\n",
       "      <th>Parch</th>\n",
       "      <th>Fare</th>\n",
       "      <th>Embarked</th>\n",
       "    </tr>\n",
       "  </thead>\n",
       "  <tbody>\n",
       "    <tr>\n",
       "      <th>0</th>\n",
       "      <td>0.827377</td>\n",
       "      <td>0.737695</td>\n",
       "      <td>-0.642946</td>\n",
       "      <td>0.432793</td>\n",
       "      <td>-0.473674</td>\n",
       "      <td>-1.459030</td>\n",
       "      <td>0.585954</td>\n",
       "    </tr>\n",
       "    <tr>\n",
       "      <th>1</th>\n",
       "      <td>-1.566107</td>\n",
       "      <td>-1.355574</td>\n",
       "      <td>1.339285</td>\n",
       "      <td>0.432793</td>\n",
       "      <td>-0.473674</td>\n",
       "      <td>1.404397</td>\n",
       "      <td>-1.942303</td>\n",
       "    </tr>\n",
       "    <tr>\n",
       "      <th>2</th>\n",
       "      <td>0.827377</td>\n",
       "      <td>-1.355574</td>\n",
       "      <td>-0.642946</td>\n",
       "      <td>-0.474545</td>\n",
       "      <td>-0.473674</td>\n",
       "      <td>-0.743174</td>\n",
       "      <td>0.585954</td>\n",
       "    </tr>\n",
       "    <tr>\n",
       "      <th>3</th>\n",
       "      <td>-1.566107</td>\n",
       "      <td>-1.355574</td>\n",
       "      <td>0.348170</td>\n",
       "      <td>0.432793</td>\n",
       "      <td>-0.473674</td>\n",
       "      <td>1.404397</td>\n",
       "      <td>0.585954</td>\n",
       "    </tr>\n",
       "    <tr>\n",
       "      <th>4</th>\n",
       "      <td>0.827377</td>\n",
       "      <td>0.737695</td>\n",
       "      <td>0.348170</td>\n",
       "      <td>-0.474545</td>\n",
       "      <td>-0.473674</td>\n",
       "      <td>-0.743174</td>\n",
       "      <td>0.585954</td>\n",
       "    </tr>\n",
       "  </tbody>\n",
       "</table>\n",
       "</div>"
      ],
      "text/plain": [
       "     Pclass       Sex       Age     SibSp     Parch      Fare  Embarked\n",
       "0  0.827377  0.737695 -0.642946  0.432793 -0.473674 -1.459030  0.585954\n",
       "1 -1.566107 -1.355574  1.339285  0.432793 -0.473674  1.404397 -1.942303\n",
       "2  0.827377 -1.355574 -0.642946 -0.474545 -0.473674 -0.743174  0.585954\n",
       "3 -1.566107 -1.355574  0.348170  0.432793 -0.473674  1.404397  0.585954\n",
       "4  0.827377  0.737695  0.348170 -0.474545 -0.473674 -0.743174  0.585954"
      ]
     },
     "execution_count": 74,
     "metadata": {},
     "output_type": "execute_result"
    }
   ],
   "source": [
    "X_train.head()"
   ]
  },
  {
   "attachments": {},
   "cell_type": "markdown",
   "metadata": {},
   "source": [
    "## Build the model"
   ]
  },
  {
   "cell_type": "code",
   "execution_count": 75,
   "metadata": {},
   "outputs": [],
   "source": [
    "model = models.Sequential([\n",
    "    layers.Dense(10, activation='relu', input_shape=(X_train.shape[1],)),\n",
    "    layers.Dropout(.2),\n",
    "\n",
    "    layers.Dense(10, activation='relu'),\n",
    "    layers.Dropout(.2),\n",
    "\n",
    "    layers.Dense(1, activation='sigmoid'),\n",
    "])"
   ]
  },
  {
   "cell_type": "code",
   "execution_count": 76,
   "metadata": {},
   "outputs": [],
   "source": [
    "model.compile(\n",
    "    optimizer='adam',\n",
    "    loss='binary_crossentropy',\n",
    "    metrics=['binary_accuracy']\n",
    ")"
   ]
  },
  {
   "cell_type": "code",
   "execution_count": 77,
   "metadata": {},
   "outputs": [
    {
     "data": {
      "text/plain": [
       "((100, 7), (791, 7), (100,), (791,))"
      ]
     },
     "execution_count": 77,
     "metadata": {},
     "output_type": "execute_result"
    }
   ],
   "source": [
    "x_val = X_train[:100]\n",
    "partial_x_train = X_train[100:]\n",
    "\n",
    "y_val = y_train[:100]\n",
    "partial_y_train = y_train[100:]\n",
    "\n",
    "x_val.shape, partial_x_train.shape, y_val.shape, partial_y_train.shape"
   ]
  },
  {
   "cell_type": "code",
   "execution_count": 78,
   "metadata": {},
   "outputs": [
    {
     "name": "stdout",
     "output_type": "stream",
     "text": [
      "Epoch 1/150\n",
      "25/25 [==============================] - 2s 20ms/step - loss: 0.7458 - binary_accuracy: 0.6157 - val_loss: 0.7394 - val_binary_accuracy: 0.5900\n",
      "Epoch 2/150\n",
      "25/25 [==============================] - 0s 5ms/step - loss: 0.6670 - binary_accuracy: 0.6245 - val_loss: 0.6847 - val_binary_accuracy: 0.5900\n",
      "Epoch 3/150\n",
      "25/25 [==============================] - 0s 5ms/step - loss: 0.6302 - binary_accuracy: 0.6308 - val_loss: 0.6499 - val_binary_accuracy: 0.5900\n",
      "Epoch 4/150\n",
      "25/25 [==============================] - 0s 5ms/step - loss: 0.6024 - binary_accuracy: 0.6574 - val_loss: 0.6231 - val_binary_accuracy: 0.6500\n",
      "Epoch 5/150\n",
      "25/25 [==============================] - 0s 5ms/step - loss: 0.5875 - binary_accuracy: 0.6764 - val_loss: 0.6063 - val_binary_accuracy: 0.6700\n",
      "Epoch 6/150\n",
      "25/25 [==============================] - 0s 5ms/step - loss: 0.5673 - binary_accuracy: 0.7092 - val_loss: 0.5923 - val_binary_accuracy: 0.7100\n",
      "Epoch 7/150\n",
      "25/25 [==============================] - 0s 5ms/step - loss: 0.5536 - binary_accuracy: 0.7307 - val_loss: 0.5793 - val_binary_accuracy: 0.7100\n",
      "Epoch 8/150\n",
      "25/25 [==============================] - 0s 5ms/step - loss: 0.5241 - binary_accuracy: 0.7547 - val_loss: 0.5665 - val_binary_accuracy: 0.7200\n",
      "Epoch 9/150\n",
      "25/25 [==============================] - 0s 5ms/step - loss: 0.5459 - binary_accuracy: 0.7446 - val_loss: 0.5554 - val_binary_accuracy: 0.7600\n",
      "Epoch 10/150\n",
      "25/25 [==============================] - 0s 5ms/step - loss: 0.5227 - binary_accuracy: 0.7737 - val_loss: 0.5479 - val_binary_accuracy: 0.7600\n",
      "Epoch 11/150\n",
      "25/25 [==============================] - 0s 4ms/step - loss: 0.5081 - binary_accuracy: 0.7800 - val_loss: 0.5400 - val_binary_accuracy: 0.7500\n",
      "Epoch 12/150\n",
      "25/25 [==============================] - 0s 5ms/step - loss: 0.5157 - binary_accuracy: 0.7509 - val_loss: 0.5328 - val_binary_accuracy: 0.7700\n",
      "Epoch 13/150\n",
      "25/25 [==============================] - 0s 8ms/step - loss: 0.4921 - binary_accuracy: 0.7800 - val_loss: 0.5267 - val_binary_accuracy: 0.7700\n",
      "Epoch 14/150\n",
      "25/25 [==============================] - 0s 8ms/step - loss: 0.4998 - binary_accuracy: 0.7750 - val_loss: 0.5221 - val_binary_accuracy: 0.7700\n",
      "Epoch 15/150\n",
      "25/25 [==============================] - 0s 6ms/step - loss: 0.4977 - binary_accuracy: 0.7750 - val_loss: 0.5174 - val_binary_accuracy: 0.7900\n",
      "Epoch 16/150\n",
      "25/25 [==============================] - 0s 5ms/step - loss: 0.4652 - binary_accuracy: 0.7838 - val_loss: 0.5124 - val_binary_accuracy: 0.7900\n",
      "Epoch 17/150\n",
      "25/25 [==============================] - 0s 5ms/step - loss: 0.4838 - binary_accuracy: 0.7686 - val_loss: 0.5101 - val_binary_accuracy: 0.8100\n",
      "Epoch 18/150\n",
      "25/25 [==============================] - 0s 6ms/step - loss: 0.4736 - binary_accuracy: 0.7737 - val_loss: 0.5067 - val_binary_accuracy: 0.8100\n",
      "Epoch 19/150\n",
      "25/25 [==============================] - 0s 5ms/step - loss: 0.4774 - binary_accuracy: 0.7838 - val_loss: 0.5033 - val_binary_accuracy: 0.8100\n",
      "Epoch 20/150\n",
      "25/25 [==============================] - 0s 5ms/step - loss: 0.4792 - binary_accuracy: 0.7927 - val_loss: 0.5012 - val_binary_accuracy: 0.8000\n",
      "Epoch 21/150\n",
      "25/25 [==============================] - 0s 5ms/step - loss: 0.4640 - binary_accuracy: 0.7927 - val_loss: 0.4982 - val_binary_accuracy: 0.8100\n",
      "Epoch 22/150\n",
      "25/25 [==============================] - 0s 4ms/step - loss: 0.4735 - binary_accuracy: 0.8028 - val_loss: 0.4936 - val_binary_accuracy: 0.8100\n",
      "Epoch 23/150\n",
      "25/25 [==============================] - 0s 4ms/step - loss: 0.4523 - binary_accuracy: 0.7977 - val_loss: 0.4920 - val_binary_accuracy: 0.8100\n",
      "Epoch 24/150\n",
      "25/25 [==============================] - 0s 5ms/step - loss: 0.4794 - binary_accuracy: 0.7800 - val_loss: 0.4888 - val_binary_accuracy: 0.8100\n",
      "Epoch 25/150\n",
      "25/25 [==============================] - 0s 5ms/step - loss: 0.4689 - binary_accuracy: 0.7838 - val_loss: 0.4882 - val_binary_accuracy: 0.8100\n",
      "Epoch 26/150\n",
      "25/25 [==============================] - 0s 4ms/step - loss: 0.4710 - binary_accuracy: 0.7977 - val_loss: 0.4865 - val_binary_accuracy: 0.8200\n",
      "Epoch 27/150\n",
      "25/25 [==============================] - 0s 3ms/step - loss: 0.4470 - binary_accuracy: 0.7990 - val_loss: 0.4855 - val_binary_accuracy: 0.8200\n",
      "Epoch 28/150\n",
      "25/25 [==============================] - 0s 4ms/step - loss: 0.4567 - binary_accuracy: 0.7914 - val_loss: 0.4840 - val_binary_accuracy: 0.8200\n",
      "Epoch 29/150\n",
      "25/25 [==============================] - 0s 4ms/step - loss: 0.4582 - binary_accuracy: 0.7927 - val_loss: 0.4844 - val_binary_accuracy: 0.8200\n",
      "Epoch 30/150\n",
      "25/25 [==============================] - 0s 4ms/step - loss: 0.4593 - binary_accuracy: 0.7977 - val_loss: 0.4839 - val_binary_accuracy: 0.8200\n",
      "Epoch 31/150\n",
      "25/25 [==============================] - 0s 4ms/step - loss: 0.4711 - binary_accuracy: 0.8040 - val_loss: 0.4819 - val_binary_accuracy: 0.8200\n",
      "Epoch 32/150\n",
      "25/25 [==============================] - 0s 5ms/step - loss: 0.4419 - binary_accuracy: 0.8078 - val_loss: 0.4832 - val_binary_accuracy: 0.8200\n",
      "Epoch 33/150\n",
      "25/25 [==============================] - 0s 4ms/step - loss: 0.4457 - binary_accuracy: 0.8015 - val_loss: 0.4826 - val_binary_accuracy: 0.8200\n",
      "Epoch 34/150\n",
      "25/25 [==============================] - 0s 16ms/step - loss: 0.4435 - binary_accuracy: 0.8015 - val_loss: 0.4815 - val_binary_accuracy: 0.8200\n",
      "Epoch 35/150\n",
      "25/25 [==============================] - 0s 5ms/step - loss: 0.4512 - binary_accuracy: 0.7990 - val_loss: 0.4818 - val_binary_accuracy: 0.8200\n",
      "Epoch 36/150\n",
      "25/25 [==============================] - 0s 4ms/step - loss: 0.4360 - binary_accuracy: 0.8053 - val_loss: 0.4829 - val_binary_accuracy: 0.8200\n",
      "Epoch 37/150\n",
      "25/25 [==============================] - 0s 5ms/step - loss: 0.4564 - binary_accuracy: 0.8003 - val_loss: 0.4814 - val_binary_accuracy: 0.8200\n",
      "Epoch 38/150\n",
      "25/25 [==============================] - 0s 5ms/step - loss: 0.4594 - binary_accuracy: 0.7965 - val_loss: 0.4833 - val_binary_accuracy: 0.8200\n",
      "Epoch 39/150\n",
      "25/25 [==============================] - 0s 4ms/step - loss: 0.4580 - binary_accuracy: 0.7939 - val_loss: 0.4796 - val_binary_accuracy: 0.8200\n",
      "Epoch 40/150\n",
      "25/25 [==============================] - 0s 5ms/step - loss: 0.4544 - binary_accuracy: 0.8154 - val_loss: 0.4794 - val_binary_accuracy: 0.8200\n",
      "Epoch 41/150\n",
      "25/25 [==============================] - 0s 4ms/step - loss: 0.4558 - binary_accuracy: 0.8040 - val_loss: 0.4762 - val_binary_accuracy: 0.8200\n",
      "Epoch 42/150\n",
      "25/25 [==============================] - 0s 4ms/step - loss: 0.4410 - binary_accuracy: 0.8091 - val_loss: 0.4760 - val_binary_accuracy: 0.8200\n",
      "Epoch 43/150\n",
      "25/25 [==============================] - 0s 5ms/step - loss: 0.4669 - binary_accuracy: 0.8078 - val_loss: 0.4750 - val_binary_accuracy: 0.8200\n",
      "Epoch 44/150\n",
      "25/25 [==============================] - 0s 4ms/step - loss: 0.4416 - binary_accuracy: 0.8104 - val_loss: 0.4756 - val_binary_accuracy: 0.8200\n",
      "Epoch 45/150\n",
      "25/25 [==============================] - 0s 8ms/step - loss: 0.4355 - binary_accuracy: 0.8154 - val_loss: 0.4759 - val_binary_accuracy: 0.8200\n",
      "Epoch 46/150\n",
      "25/25 [==============================] - 0s 4ms/step - loss: 0.4504 - binary_accuracy: 0.8091 - val_loss: 0.4766 - val_binary_accuracy: 0.8200\n",
      "Epoch 47/150\n",
      "25/25 [==============================] - 0s 4ms/step - loss: 0.4392 - binary_accuracy: 0.7952 - val_loss: 0.4760 - val_binary_accuracy: 0.8300\n",
      "Epoch 48/150\n",
      "25/25 [==============================] - 0s 4ms/step - loss: 0.4462 - binary_accuracy: 0.8040 - val_loss: 0.4757 - val_binary_accuracy: 0.8200\n",
      "Epoch 49/150\n",
      "25/25 [==============================] - 0s 4ms/step - loss: 0.4365 - binary_accuracy: 0.8040 - val_loss: 0.4757 - val_binary_accuracy: 0.8300\n",
      "Epoch 50/150\n",
      "25/25 [==============================] - 0s 5ms/step - loss: 0.4457 - binary_accuracy: 0.8167 - val_loss: 0.4771 - val_binary_accuracy: 0.8300\n",
      "Epoch 51/150\n",
      "25/25 [==============================] - 0s 5ms/step - loss: 0.4351 - binary_accuracy: 0.8180 - val_loss: 0.4750 - val_binary_accuracy: 0.8300\n",
      "Epoch 52/150\n",
      "25/25 [==============================] - 0s 4ms/step - loss: 0.4348 - binary_accuracy: 0.8142 - val_loss: 0.4742 - val_binary_accuracy: 0.8300\n",
      "Epoch 53/150\n",
      "25/25 [==============================] - 0s 9ms/step - loss: 0.4424 - binary_accuracy: 0.8205 - val_loss: 0.4734 - val_binary_accuracy: 0.8300\n",
      "Epoch 54/150\n",
      "25/25 [==============================] - 0s 6ms/step - loss: 0.4475 - binary_accuracy: 0.8129 - val_loss: 0.4748 - val_binary_accuracy: 0.8300\n",
      "Epoch 55/150\n",
      "25/25 [==============================] - 0s 6ms/step - loss: 0.4371 - binary_accuracy: 0.8154 - val_loss: 0.4750 - val_binary_accuracy: 0.8300\n",
      "Epoch 56/150\n",
      "25/25 [==============================] - 0s 5ms/step - loss: 0.4620 - binary_accuracy: 0.7952 - val_loss: 0.4748 - val_binary_accuracy: 0.8300\n",
      "Epoch 57/150\n",
      "25/25 [==============================] - 0s 5ms/step - loss: 0.4473 - binary_accuracy: 0.8028 - val_loss: 0.4732 - val_binary_accuracy: 0.8300\n",
      "Epoch 58/150\n",
      "25/25 [==============================] - 0s 5ms/step - loss: 0.4303 - binary_accuracy: 0.8192 - val_loss: 0.4723 - val_binary_accuracy: 0.8300\n",
      "Epoch 59/150\n",
      "25/25 [==============================] - 0s 5ms/step - loss: 0.4525 - binary_accuracy: 0.8091 - val_loss: 0.4709 - val_binary_accuracy: 0.8300\n",
      "Epoch 60/150\n",
      "25/25 [==============================] - 0s 5ms/step - loss: 0.4477 - binary_accuracy: 0.8053 - val_loss: 0.4709 - val_binary_accuracy: 0.8400\n",
      "Epoch 61/150\n",
      "25/25 [==============================] - 0s 6ms/step - loss: 0.4295 - binary_accuracy: 0.8205 - val_loss: 0.4709 - val_binary_accuracy: 0.8300\n",
      "Epoch 62/150\n",
      "25/25 [==============================] - 0s 8ms/step - loss: 0.4299 - binary_accuracy: 0.8230 - val_loss: 0.4721 - val_binary_accuracy: 0.8300\n",
      "Epoch 63/150\n",
      "25/25 [==============================] - 0s 8ms/step - loss: 0.4273 - binary_accuracy: 0.8167 - val_loss: 0.4711 - val_binary_accuracy: 0.8300\n",
      "Epoch 64/150\n",
      "25/25 [==============================] - 0s 6ms/step - loss: 0.4340 - binary_accuracy: 0.8142 - val_loss: 0.4702 - val_binary_accuracy: 0.8300\n",
      "Epoch 65/150\n",
      "25/25 [==============================] - 0s 5ms/step - loss: 0.4333 - binary_accuracy: 0.8142 - val_loss: 0.4707 - val_binary_accuracy: 0.8300\n",
      "Epoch 66/150\n",
      "25/25 [==============================] - 0s 8ms/step - loss: 0.4372 - binary_accuracy: 0.8129 - val_loss: 0.4731 - val_binary_accuracy: 0.8300\n",
      "Epoch 67/150\n",
      "25/25 [==============================] - 0s 8ms/step - loss: 0.4256 - binary_accuracy: 0.8154 - val_loss: 0.4714 - val_binary_accuracy: 0.8300\n",
      "Epoch 68/150\n",
      "25/25 [==============================] - 0s 7ms/step - loss: 0.4420 - binary_accuracy: 0.8142 - val_loss: 0.4726 - val_binary_accuracy: 0.8300\n",
      "Epoch 69/150\n",
      "25/25 [==============================] - 0s 7ms/step - loss: 0.4426 - binary_accuracy: 0.8217 - val_loss: 0.4742 - val_binary_accuracy: 0.8300\n",
      "Epoch 70/150\n",
      "25/25 [==============================] - 0s 12ms/step - loss: 0.4164 - binary_accuracy: 0.8281 - val_loss: 0.4738 - val_binary_accuracy: 0.8300\n",
      "Epoch 71/150\n",
      "25/25 [==============================] - 0s 8ms/step - loss: 0.4339 - binary_accuracy: 0.8230 - val_loss: 0.4753 - val_binary_accuracy: 0.8400\n",
      "Epoch 72/150\n",
      "25/25 [==============================] - 0s 6ms/step - loss: 0.4439 - binary_accuracy: 0.8104 - val_loss: 0.4742 - val_binary_accuracy: 0.8300\n",
      "Epoch 73/150\n",
      "25/25 [==============================] - 0s 8ms/step - loss: 0.4229 - binary_accuracy: 0.8129 - val_loss: 0.4729 - val_binary_accuracy: 0.8300\n",
      "Epoch 74/150\n",
      "25/25 [==============================] - 0s 7ms/step - loss: 0.4291 - binary_accuracy: 0.8268 - val_loss: 0.4719 - val_binary_accuracy: 0.8300\n",
      "Epoch 75/150\n",
      "25/25 [==============================] - 0s 5ms/step - loss: 0.4293 - binary_accuracy: 0.8243 - val_loss: 0.4729 - val_binary_accuracy: 0.8300\n",
      "Epoch 76/150\n",
      "25/25 [==============================] - 0s 5ms/step - loss: 0.4367 - binary_accuracy: 0.8154 - val_loss: 0.4733 - val_binary_accuracy: 0.8300\n",
      "Epoch 77/150\n",
      "25/25 [==============================] - 0s 6ms/step - loss: 0.4294 - binary_accuracy: 0.8255 - val_loss: 0.4728 - val_binary_accuracy: 0.8300\n",
      "Epoch 78/150\n",
      "25/25 [==============================] - 0s 5ms/step - loss: 0.4412 - binary_accuracy: 0.8129 - val_loss: 0.4751 - val_binary_accuracy: 0.8400\n",
      "Epoch 79/150\n",
      "25/25 [==============================] - 0s 5ms/step - loss: 0.4346 - binary_accuracy: 0.8167 - val_loss: 0.4734 - val_binary_accuracy: 0.8300\n",
      "Epoch 80/150\n",
      "25/25 [==============================] - 0s 7ms/step - loss: 0.4269 - binary_accuracy: 0.8192 - val_loss: 0.4741 - val_binary_accuracy: 0.8400\n",
      "Epoch 81/150\n",
      "25/25 [==============================] - 0s 7ms/step - loss: 0.4325 - binary_accuracy: 0.8091 - val_loss: 0.4744 - val_binary_accuracy: 0.8500\n",
      "Epoch 82/150\n",
      "25/25 [==============================] - 0s 7ms/step - loss: 0.4460 - binary_accuracy: 0.8040 - val_loss: 0.4742 - val_binary_accuracy: 0.8400\n",
      "Epoch 83/150\n",
      "25/25 [==============================] - 0s 8ms/step - loss: 0.4377 - binary_accuracy: 0.8255 - val_loss: 0.4750 - val_binary_accuracy: 0.8300\n",
      "Epoch 84/150\n",
      "25/25 [==============================] - 0s 7ms/step - loss: 0.4291 - binary_accuracy: 0.8217 - val_loss: 0.4731 - val_binary_accuracy: 0.8300\n",
      "Epoch 85/150\n",
      "25/25 [==============================] - 0s 11ms/step - loss: 0.4208 - binary_accuracy: 0.8104 - val_loss: 0.4718 - val_binary_accuracy: 0.8300\n",
      "Epoch 86/150\n",
      "25/25 [==============================] - 0s 9ms/step - loss: 0.4236 - binary_accuracy: 0.8192 - val_loss: 0.4716 - val_binary_accuracy: 0.8400\n",
      "Epoch 87/150\n",
      "25/25 [==============================] - 0s 7ms/step - loss: 0.4405 - binary_accuracy: 0.8154 - val_loss: 0.4727 - val_binary_accuracy: 0.8400\n",
      "Epoch 88/150\n",
      "25/25 [==============================] - 0s 8ms/step - loss: 0.4208 - binary_accuracy: 0.8116 - val_loss: 0.4725 - val_binary_accuracy: 0.8400\n",
      "Epoch 89/150\n",
      "25/25 [==============================] - 0s 7ms/step - loss: 0.4183 - binary_accuracy: 0.8192 - val_loss: 0.4702 - val_binary_accuracy: 0.8400\n",
      "Epoch 90/150\n",
      "25/25 [==============================] - 0s 7ms/step - loss: 0.4230 - binary_accuracy: 0.8129 - val_loss: 0.4718 - val_binary_accuracy: 0.8400\n",
      "Epoch 91/150\n",
      "25/25 [==============================] - 0s 6ms/step - loss: 0.4302 - binary_accuracy: 0.8142 - val_loss: 0.4731 - val_binary_accuracy: 0.8400\n",
      "Epoch 92/150\n",
      "25/25 [==============================] - 0s 6ms/step - loss: 0.4220 - binary_accuracy: 0.8116 - val_loss: 0.4723 - val_binary_accuracy: 0.8400\n",
      "Epoch 93/150\n",
      "25/25 [==============================] - 0s 6ms/step - loss: 0.4138 - binary_accuracy: 0.8167 - val_loss: 0.4722 - val_binary_accuracy: 0.8500\n",
      "Epoch 94/150\n",
      "25/25 [==============================] - 0s 5ms/step - loss: 0.4223 - binary_accuracy: 0.8230 - val_loss: 0.4718 - val_binary_accuracy: 0.8400\n",
      "Epoch 95/150\n",
      "25/25 [==============================] - 0s 6ms/step - loss: 0.4163 - binary_accuracy: 0.8192 - val_loss: 0.4709 - val_binary_accuracy: 0.8400\n",
      "Epoch 96/150\n",
      "25/25 [==============================] - 0s 6ms/step - loss: 0.4137 - binary_accuracy: 0.8382 - val_loss: 0.4715 - val_binary_accuracy: 0.8400\n",
      "Epoch 97/150\n",
      "25/25 [==============================] - 0s 8ms/step - loss: 0.4205 - binary_accuracy: 0.8293 - val_loss: 0.4707 - val_binary_accuracy: 0.8400\n",
      "Epoch 98/150\n",
      "25/25 [==============================] - 0s 7ms/step - loss: 0.4318 - binary_accuracy: 0.8180 - val_loss: 0.4700 - val_binary_accuracy: 0.8400\n",
      "Epoch 99/150\n",
      "25/25 [==============================] - 0s 16ms/step - loss: 0.4164 - binary_accuracy: 0.8357 - val_loss: 0.4710 - val_binary_accuracy: 0.8400\n",
      "Epoch 100/150\n",
      "25/25 [==============================] - 0s 9ms/step - loss: 0.4167 - binary_accuracy: 0.8154 - val_loss: 0.4704 - val_binary_accuracy: 0.8400\n",
      "Epoch 101/150\n",
      "25/25 [==============================] - 0s 7ms/step - loss: 0.4385 - binary_accuracy: 0.8091 - val_loss: 0.4694 - val_binary_accuracy: 0.8400\n",
      "Epoch 102/150\n",
      "25/25 [==============================] - 0s 6ms/step - loss: 0.4300 - binary_accuracy: 0.8180 - val_loss: 0.4706 - val_binary_accuracy: 0.8400\n",
      "Epoch 103/150\n",
      "25/25 [==============================] - 0s 6ms/step - loss: 0.4255 - binary_accuracy: 0.8180 - val_loss: 0.4721 - val_binary_accuracy: 0.8400\n",
      "Epoch 104/150\n",
      "25/25 [==============================] - 0s 7ms/step - loss: 0.4195 - binary_accuracy: 0.8091 - val_loss: 0.4734 - val_binary_accuracy: 0.8400\n",
      "Epoch 105/150\n",
      "25/25 [==============================] - 0s 7ms/step - loss: 0.4209 - binary_accuracy: 0.8268 - val_loss: 0.4723 - val_binary_accuracy: 0.8400\n",
      "Epoch 106/150\n",
      "25/25 [==============================] - 0s 16ms/step - loss: 0.4280 - binary_accuracy: 0.8217 - val_loss: 0.4717 - val_binary_accuracy: 0.8400\n",
      "Epoch 107/150\n",
      "25/25 [==============================] - 0s 10ms/step - loss: 0.4264 - binary_accuracy: 0.8192 - val_loss: 0.4702 - val_binary_accuracy: 0.8400\n",
      "Epoch 108/150\n",
      "25/25 [==============================] - 0s 7ms/step - loss: 0.4346 - binary_accuracy: 0.8217 - val_loss: 0.4708 - val_binary_accuracy: 0.8400\n",
      "Epoch 109/150\n",
      "25/25 [==============================] - 0s 6ms/step - loss: 0.4244 - binary_accuracy: 0.8268 - val_loss: 0.4715 - val_binary_accuracy: 0.8500\n",
      "Epoch 110/150\n",
      "25/25 [==============================] - 0s 6ms/step - loss: 0.4277 - binary_accuracy: 0.8281 - val_loss: 0.4723 - val_binary_accuracy: 0.8500\n",
      "Epoch 111/150\n",
      "25/25 [==============================] - 0s 4ms/step - loss: 0.4253 - binary_accuracy: 0.8091 - val_loss: 0.4727 - val_binary_accuracy: 0.8400\n",
      "Epoch 112/150\n",
      "25/25 [==============================] - 0s 11ms/step - loss: 0.4265 - binary_accuracy: 0.8205 - val_loss: 0.4723 - val_binary_accuracy: 0.8500\n",
      "Epoch 113/150\n",
      "25/25 [==============================] - 0s 7ms/step - loss: 0.4302 - binary_accuracy: 0.8243 - val_loss: 0.4726 - val_binary_accuracy: 0.8400\n",
      "Epoch 114/150\n",
      "25/25 [==============================] - 0s 6ms/step - loss: 0.4303 - binary_accuracy: 0.8268 - val_loss: 0.4724 - val_binary_accuracy: 0.8400\n",
      "Epoch 115/150\n",
      "25/25 [==============================] - 0s 6ms/step - loss: 0.4232 - binary_accuracy: 0.8180 - val_loss: 0.4733 - val_binary_accuracy: 0.8400\n",
      "Epoch 116/150\n",
      "25/25 [==============================] - 0s 6ms/step - loss: 0.4248 - binary_accuracy: 0.8217 - val_loss: 0.4702 - val_binary_accuracy: 0.8400\n",
      "Epoch 117/150\n",
      "25/25 [==============================] - 0s 6ms/step - loss: 0.4317 - binary_accuracy: 0.8217 - val_loss: 0.4713 - val_binary_accuracy: 0.8500\n",
      "Epoch 118/150\n",
      "25/25 [==============================] - 0s 6ms/step - loss: 0.4291 - binary_accuracy: 0.8167 - val_loss: 0.4732 - val_binary_accuracy: 0.8400\n",
      "Epoch 119/150\n",
      "25/25 [==============================] - 0s 5ms/step - loss: 0.4362 - binary_accuracy: 0.8281 - val_loss: 0.4726 - val_binary_accuracy: 0.8500\n",
      "Epoch 120/150\n",
      "25/25 [==============================] - 0s 5ms/step - loss: 0.4347 - binary_accuracy: 0.8180 - val_loss: 0.4744 - val_binary_accuracy: 0.8500\n",
      "Epoch 121/150\n",
      "25/25 [==============================] - 0s 4ms/step - loss: 0.4214 - binary_accuracy: 0.8230 - val_loss: 0.4725 - val_binary_accuracy: 0.8500\n",
      "Epoch 122/150\n",
      "25/25 [==============================] - 0s 5ms/step - loss: 0.4261 - binary_accuracy: 0.8243 - val_loss: 0.4720 - val_binary_accuracy: 0.8500\n",
      "Epoch 123/150\n",
      "25/25 [==============================] - 0s 5ms/step - loss: 0.4101 - binary_accuracy: 0.8230 - val_loss: 0.4730 - val_binary_accuracy: 0.8500\n",
      "Epoch 124/150\n",
      "25/25 [==============================] - 0s 6ms/step - loss: 0.4383 - binary_accuracy: 0.8255 - val_loss: 0.4707 - val_binary_accuracy: 0.8400\n",
      "Epoch 125/150\n",
      "25/25 [==============================] - 0s 5ms/step - loss: 0.4150 - binary_accuracy: 0.8217 - val_loss: 0.4708 - val_binary_accuracy: 0.8400\n",
      "Epoch 126/150\n",
      "25/25 [==============================] - 0s 5ms/step - loss: 0.4307 - binary_accuracy: 0.8230 - val_loss: 0.4722 - val_binary_accuracy: 0.8500\n",
      "Epoch 127/150\n",
      "25/25 [==============================] - 0s 12ms/step - loss: 0.4269 - binary_accuracy: 0.8293 - val_loss: 0.4722 - val_binary_accuracy: 0.8500\n",
      "Epoch 128/150\n",
      "25/25 [==============================] - 0s 9ms/step - loss: 0.4316 - binary_accuracy: 0.8180 - val_loss: 0.4731 - val_binary_accuracy: 0.8500\n",
      "Epoch 129/150\n",
      "25/25 [==============================] - 0s 7ms/step - loss: 0.4183 - binary_accuracy: 0.8268 - val_loss: 0.4719 - val_binary_accuracy: 0.8500\n",
      "Epoch 130/150\n",
      "25/25 [==============================] - 0s 6ms/step - loss: 0.4259 - binary_accuracy: 0.8154 - val_loss: 0.4720 - val_binary_accuracy: 0.8400\n",
      "Epoch 131/150\n",
      "25/25 [==============================] - 0s 6ms/step - loss: 0.4375 - binary_accuracy: 0.8205 - val_loss: 0.4708 - val_binary_accuracy: 0.8400\n",
      "Epoch 132/150\n",
      "25/25 [==============================] - 0s 6ms/step - loss: 0.4270 - binary_accuracy: 0.8180 - val_loss: 0.4724 - val_binary_accuracy: 0.8400\n",
      "Epoch 133/150\n",
      "25/25 [==============================] - 0s 7ms/step - loss: 0.4396 - binary_accuracy: 0.8217 - val_loss: 0.4720 - val_binary_accuracy: 0.8400\n",
      "Epoch 134/150\n",
      "25/25 [==============================] - 0s 7ms/step - loss: 0.4252 - binary_accuracy: 0.8255 - val_loss: 0.4726 - val_binary_accuracy: 0.8400\n",
      "Epoch 135/150\n",
      "25/25 [==============================] - 0s 5ms/step - loss: 0.4253 - binary_accuracy: 0.8192 - val_loss: 0.4727 - val_binary_accuracy: 0.8300\n",
      "Epoch 136/150\n",
      "25/25 [==============================] - 0s 5ms/step - loss: 0.4249 - binary_accuracy: 0.8217 - val_loss: 0.4737 - val_binary_accuracy: 0.8300\n",
      "Epoch 137/150\n",
      "25/25 [==============================] - 0s 6ms/step - loss: 0.4328 - binary_accuracy: 0.8230 - val_loss: 0.4750 - val_binary_accuracy: 0.8400\n",
      "Epoch 138/150\n",
      "25/25 [==============================] - 0s 5ms/step - loss: 0.4258 - binary_accuracy: 0.8281 - val_loss: 0.4740 - val_binary_accuracy: 0.8300\n",
      "Epoch 139/150\n",
      "25/25 [==============================] - 0s 4ms/step - loss: 0.4322 - binary_accuracy: 0.8230 - val_loss: 0.4728 - val_binary_accuracy: 0.8300\n",
      "Epoch 140/150\n",
      "25/25 [==============================] - 0s 5ms/step - loss: 0.4159 - binary_accuracy: 0.8394 - val_loss: 0.4738 - val_binary_accuracy: 0.8400\n",
      "Epoch 141/150\n",
      "25/25 [==============================] - 0s 12ms/step - loss: 0.4290 - binary_accuracy: 0.8180 - val_loss: 0.4716 - val_binary_accuracy: 0.8300\n",
      "Epoch 142/150\n",
      "25/25 [==============================] - 0s 8ms/step - loss: 0.4233 - binary_accuracy: 0.8192 - val_loss: 0.4717 - val_binary_accuracy: 0.8300\n",
      "Epoch 143/150\n",
      "25/25 [==============================] - 0s 7ms/step - loss: 0.4312 - binary_accuracy: 0.8255 - val_loss: 0.4728 - val_binary_accuracy: 0.8300\n",
      "Epoch 144/150\n",
      "25/25 [==============================] - 0s 6ms/step - loss: 0.4161 - binary_accuracy: 0.8192 - val_loss: 0.4738 - val_binary_accuracy: 0.8300\n",
      "Epoch 145/150\n",
      "25/25 [==============================] - 0s 6ms/step - loss: 0.4074 - binary_accuracy: 0.8357 - val_loss: 0.4741 - val_binary_accuracy: 0.8400\n",
      "Epoch 146/150\n",
      "25/25 [==============================] - 0s 7ms/step - loss: 0.4231 - binary_accuracy: 0.8243 - val_loss: 0.4736 - val_binary_accuracy: 0.8300\n",
      "Epoch 147/150\n",
      "25/25 [==============================] - 0s 7ms/step - loss: 0.4339 - binary_accuracy: 0.8306 - val_loss: 0.4743 - val_binary_accuracy: 0.8300\n",
      "Epoch 148/150\n",
      "25/25 [==============================] - 0s 9ms/step - loss: 0.4202 - binary_accuracy: 0.8293 - val_loss: 0.4724 - val_binary_accuracy: 0.8300\n",
      "Epoch 149/150\n",
      "25/25 [==============================] - 0s 7ms/step - loss: 0.4204 - binary_accuracy: 0.8331 - val_loss: 0.4724 - val_binary_accuracy: 0.8300\n",
      "Epoch 150/150\n",
      "25/25 [==============================] - 0s 7ms/step - loss: 0.4215 - binary_accuracy: 0.8142 - val_loss: 0.4700 - val_binary_accuracy: 0.8400\n"
     ]
    }
   ],
   "source": [
    "history = model.fit(\n",
    "    partial_x_train,\n",
    "    partial_y_train,\n",
    "    epochs=150,\n",
    "    batch_size=32,\n",
    "    validation_data=(x_val, y_val),\n",
    ")"
   ]
  },
  {
   "cell_type": "code",
   "execution_count": 79,
   "metadata": {},
   "outputs": [
    {
     "data": {
      "image/png": "[encoded data removed]",
      "text/plain": [
       "<Figure size 1000x600 with 1 Axes>"
      ]
     },
     "metadata": {},
     "output_type": "display_data"
    }
   ],
   "source": [
    "plt.plot(history.history['loss'], label='loss')\n",
    "plt.plot(history.history['val_loss'], label='val_loss')\n",
    "plt.title('Loss')\n",
    "plt.xlabel('Epochs')\n",
    "plt.ylabel('Loss')\n",
    "plt.legend()\n",
    "\n",
    "plt.show()"
   ]
  },
  {
   "cell_type": "code",
   "execution_count": 80,
   "metadata": {},
   "outputs": [
    {
     "data": {
      "image/png": "[encoded data removed]",
      "text/plain": [
       "<Figure size 1000x600 with 1 Axes>"
      ]
     },
     "metadata": {},
     "output_type": "display_data"
    }
   ],
   "source": [
    "plt.plot(history.history['binary_accuracy'], label='binary_accuracy')\n",
    "plt.plot(history.history['val_binary_accuracy'], label='val_binary_accuracy')\n",
    "plt.title('Accuracy')\n",
    "plt.xlabel('Epochs')\n",
    "plt.ylabel('Accuracy')\n",
    "plt.legend()\n",
    "plt.show()"
   ]
  },
  {
   "cell_type": "code",
   "execution_count": 81,
   "metadata": {},
   "outputs": [
    {
     "name": "stdout",
     "output_type": "stream",
     "text": [
      "28/28 [==============================] - 0s 3ms/step - loss: 0.3989 - binary_accuracy: 0.8418\n"
     ]
    },
    {
     "data": {
      "text/plain": [
       "[0.3988744020462036, 0.8417508602142334]"
      ]
     },
     "execution_count": 81,
     "metadata": {},
     "output_type": "execute_result"
    }
   ],
   "source": [
    "model.evaluate(X_train, y_train)"
   ]
  },
  {
   "cell_type": "code",
   "execution_count": 82,
   "metadata": {},
   "outputs": [
    {
     "name": "stdout",
     "output_type": "stream",
     "text": [
      "Model: \"sequential_5\"\n",
      "_________________________________________________________________\n",
      " Layer (type)                Output Shape              Param #   \n",
      "=================================================================\n",
      " dense_17 (Dense)            (None, 10)                80        \n",
      "                                                                 \n",
      " dropout_11 (Dropout)        (None, 10)                0         \n",
      "                                                                 \n",
      " dense_18 (Dense)            (None, 10)                110       \n",
      "                                                                 \n",
      " dropout_12 (Dropout)        (None, 10)                0         \n",
      "                                                                 \n",
      " dense_19 (Dense)            (None, 1)                 11        \n",
      "                                                                 \n",
      "=================================================================\n",
      "Total params: 201\n",
      "Trainable params: 201\n",
      "Non-trainable params: 0\n",
      "_________________________________________________________________\n"
     ]
    }
   ],
   "source": [
    "model.summary()"
   ]
  },
  {
   "cell_type": "code",
   "execution_count": 86,
   "metadata": {},
   "outputs": [
    {
     "name": "stdout",
     "output_type": "stream",
     "text": [
      "14/14 [==============================] - 0s 3ms/step\n"
     ]
    }
   ],
   "source": [
    "y_pred = model.predict(X_test)\n",
    "y_pred = y_pred > .5\n"
   ]
  },
  {
   "cell_type": "code",
   "execution_count": 87,
   "metadata": {},
   "outputs": [
    {
     "data": {
      "text/plain": [
       "array([0, 0, 0, 0, 0, 0, 1, 1, 1, 0, 0, 0, 1, 0, 1, 1, 0, 0, 0, 0, 0, 0,\n",
       "       1, 1, 1, 0, 1, 0, 0, 0, 0, 0, 0, 0, 1, 0, 1, 1, 0, 0, 0, 0, 0, 1,\n",
       "       1, 0, 0, 0, 1, 0, 1, 0, 1, 1, 0, 0, 0, 0, 0, 1, 0, 0, 0, 1, 1, 1,\n",
       "       1, 0, 0, 1, 1, 0, 0, 0, 1, 0, 0, 1, 0, 1, 1, 0, 0, 0, 0, 0, 1, 1,\n",
       "       1, 1, 0, 0, 1, 0, 1, 0, 1, 0, 1, 0, 1, 0, 0, 0, 1, 0, 0, 0, 0, 0,\n",
       "       0, 1, 1, 1, 1, 0, 0, 1, 0, 1, 1, 0, 1, 0, 0, 1, 0, 1, 0, 0, 0, 0,\n",
       "       0, 0, 0, 0, 0, 0, 1, 0, 0, 1, 0, 0, 0, 0, 0, 0, 0, 0, 1, 0, 0, 0,\n",
       "       0, 0, 1, 1, 0, 1, 1, 1, 1, 0, 0, 1, 0, 0, 1, 1, 0, 0, 0, 0, 0, 1,\n",
       "       1, 0, 1, 1, 0, 1, 1, 0, 1, 0, 1, 0, 0, 0, 0, 0, 0, 0, 1, 0, 1, 1,\n",
       "       0, 1, 1, 1, 0, 1, 0, 1, 1, 0, 1, 0, 0, 0, 0, 1, 0, 0, 1, 0, 1, 0,\n",
       "       1, 0, 1, 0, 1, 1, 0, 1, 0, 0, 0, 1, 0, 0, 0, 0, 0, 0, 1, 1, 1, 1,\n",
       "       0, 0, 0, 0, 1, 0, 1, 1, 1, 0, 1, 0, 0, 0, 0, 0, 1, 0, 0, 0, 1, 1,\n",
       "       0, 0, 0, 0, 1, 0, 0, 0, 1, 1, 0, 1, 0, 0, 0, 0, 1, 0, 1, 1, 1, 0,\n",
       "       0, 1, 0, 0, 0, 1, 0, 0, 0, 0, 1, 0, 0, 0, 0, 0, 0, 0, 1, 1, 1, 0,\n",
       "       0, 0, 0, 0, 0, 1, 1, 1, 0, 0, 0, 0, 0, 0, 0, 0, 1, 0, 1, 0, 0, 0,\n",
       "       1, 0, 0, 1, 0, 0, 0, 0, 0, 0, 0, 0, 0, 1, 0, 1, 0, 0, 0, 1, 1, 0,\n",
       "       0, 0, 1, 0, 1, 0, 0, 1, 0, 1, 1, 0, 1, 0, 0, 1, 1, 0, 0, 1, 0, 0,\n",
       "       1, 1, 0, 0, 0, 0, 0, 0, 1, 0, 0, 1, 0, 0, 0, 0, 0, 1, 1, 0, 0, 1,\n",
       "       0, 1, 0, 0, 1, 0, 1, 0, 0, 0, 0, 0, 1, 1, 1, 1, 0, 0, 1, 0, 0, 1])"
      ]
     },
     "execution_count": 87,
     "metadata": {},
     "output_type": "execute_result"
    }
   ],
   "source": [
    "y_pred = y_pred.astype(int).reshape(-1)\n",
    "y_pred"
   ]
  },
  {
   "cell_type": "code",
   "execution_count": 88,
   "metadata": {},
   "outputs": [],
   "source": [
    "final_submission = pd.DataFrame({\n",
    "    'PassengerId': test_data.PassengerId,\n",
    "    'Survived': y_pred\n",
    "})\n",
    "\n",
    "final_submission.to_csv('data/final_submission.csv', index=False)"
   ]
  },
  {
   "cell_type": "code",
   "execution_count": null,
   "metadata": {},
   "outputs": [],
   "source": []
  }
 ],
 "metadata": {
  "kernelspec": {
   "display_name": "Python 3",
   "language": "python",
   "name": "python3"
  },
  "language_info": {
   "codemirror_mode": {
    "name": "ipython",
    "version": 3
   },
   "file_extension": ".py",
   "mimetype": "text/x-python",
   "name": "python",
   "nbconvert_exporter": "python",
   "pygments_lexer": "ipython3",
   "version": "3.11.1"
  },
  "orig_nbformat": 4
 },
 "nbformat": 4,
 "nbformat_minor": 2
}
